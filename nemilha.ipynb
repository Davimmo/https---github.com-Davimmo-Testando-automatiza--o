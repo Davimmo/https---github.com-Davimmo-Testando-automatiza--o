{
 "cells": [
  {
   "cell_type": "code",
   "execution_count": 13,
   "metadata": {},
   "outputs": [
    {
     "name": "stdout",
     "output_type": "stream",
     "text": [
      "valor1\n",
      "valor2\n",
      "Olá, eu sou um método da classe!\n"
     ]
    }
   ],
   "source": [
    "class cliente:\n",
    "    def __init__(self, cartão, email,nome,cpf,limite,nascimento,vencimento,faturas):\n",
    "        self.cartão = cartão\n",
    "        self.email = email\n",
    "        self.nome=nome\n",
    "        self.cpf=cpf\n",
    "        self.limite=limite\n",
    "        self.nascimento=nascimento\n",
    "        self.vencimento=vencimento\n",
    "        self.faturas=faturas\n",
    "\n",
    "        \n",
    "\n",
    "\n",
    "    def compra(self,codigoest,nomeest,valor,datacompra=input()):\n",
    "        print(datacompra)"
   ]
  },
  {
   "cell_type": "code",
   "execution_count": 29,
   "metadata": {},
   "outputs": [
    {
     "name": "stdout",
     "output_type": "stream",
     "text": [
      "[50.0, 30.0]\n",
      "Boleto para João da Silva\n",
      "ID do Cliente: 123\n",
      "Total a pagar: R$ 160.00\n",
      "------------------------\n",
      "[20.0, 40.0, 40.0]\n",
      "Boleto para Maria Souza\n",
      "ID do Cliente: 456\n",
      "Total a pagar: R$ 200.00\n",
      "------------------------\n"
     ]
    }
   ],
   "source": [
    "class Cliente:\n",
    "    def __init__(self, nome, cliente_id):\n",
    "        self.nome = nome\n",
    "        self.cliente_id = cliente_id\n",
    "        self.compras = []\n",
    "\n",
    "    def registrar_compra(self, descricao, valor):\n",
    "        self.compras.append({\"descricao\": descricao, \"valor\": valor})\n",
    "\n",
    "    def listar_compras(self):\n",
    "        return self.compras\n",
    "    \n",
    "    def gerar_boleto(self):\n",
    "        total_compras = sum(compra[\"valor\"] for compra in self.listar_compras())\n",
    "        print([compra[\"valor\"] for compra in self.listar_compras()])\n",
    "        return f\"Boleto para {self.nome}\\nID do Cliente: {self.cliente_id}\\nTotal a pagar: R$ {total_compras:.2f}\"\n",
    "\n",
    "    \n",
    "\n",
    "\n",
    "\n",
    "# class Fatura:\n",
    "#     def __init__(self, cliente):\n",
    "#         self.cliente = cliente\n",
    "\n",
    "#     def gerar_boleto(self):\n",
    "#         total_compras = sum(compra[\"valor\"] for compra in self.cliente.listar_compras())\n",
    "#         print([compra[\"valor\"] for compra in self.cliente.listar_compras()])\n",
    "#         return f\"Boleto para {self.cliente.nome}\\nID do Cliente: {self.cliente.cliente_id}\\nTotal a pagar: R$ {total_compras:.2f}\"\n",
    "\n",
    "\n",
    "# # Exemplo de uso das classes\n",
    "# clientes = []\n",
    "\n",
    "# # Adicionar clientes\n",
    "# cliente1 = Cliente(\"João da Silva\", 123)\n",
    "# cliente2 = Cliente(\"Maria Souza\", 456)\n",
    "# clientes.append(cliente1)\n",
    "# clientes.append(cliente2)\n",
    "\n",
    "# # Realizar compras\n",
    "# cliente1.registrar_compra(\"Produto A\", 50.00)\n",
    "# cliente1.registrar_compra(\"Produto B\", 30.00)\n",
    "\n",
    "# cliente2.registrar_compra(\"Produto C\", 20.00)\n",
    "# cliente2.registrar_compra(\"Produto D\", 40.00)\n",
    "# cliente2.registrar_compra(\"Produto C\", 40.00)\n",
    "\n",
    "# # Gerar boletos para as faturas\n",
    "# for cliente in clientes:\n",
    "#     fatura = Fatura(cliente)\n",
    "#     boleto = fatura.gerar_boleto()\n",
    "#     print(boleto)\n",
    "#     print(\"------------------------\")"
   ]
  },
  {
   "cell_type": "code",
   "execution_count": 1,
   "metadata": {},
   "outputs": [
    {
     "name": "stdout",
     "output_type": "stream",
     "text": [
      "[9, 10, 11, 12, 13, 14, 15, 16, 17, 18, 19, 20, 21]\n"
     ]
    }
   ],
   "source": [
    "print(list(range(9,22)))"
   ]
  }
 ],
 "metadata": {
  "kernelspec": {
   "display_name": "Python 3",
   "language": "python",
   "name": "python3"
  },
  "language_info": {
   "codemirror_mode": {
    "name": "ipython",
    "version": 3
   },
   "file_extension": ".py",
   "mimetype": "text/x-python",
   "name": "python",
   "nbconvert_exporter": "python",
   "pygments_lexer": "ipython3",
   "version": "3.11.4"
  },
  "orig_nbformat": 4
 },
 "nbformat": 4,
 "nbformat_minor": 2
}
