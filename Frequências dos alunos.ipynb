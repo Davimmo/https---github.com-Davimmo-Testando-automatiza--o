{
 "cells": [
  {
   "cell_type": "code",
   "execution_count": 1,
   "id": "67ee330e",
   "metadata": {},
   "outputs": [],
   "source": [
    "##Importa as bibliotecas de automação e de tempo respectivamente:\n",
    "\n",
    "import pyautogui as pauto\n",
    "import time\n",
    "\n",
    "Quantidade_De_Alunos=19\n",
    "Quantidade_De_Alunos=((Quantidade_De_Alunos*3)-2)\n",
    "\n",
    "##Numeração referente aos alunos que faltaram\n",
    "alunos_faltosos=[2,3,7,12,14,15,18,19]\n",
    "\n",
    "##Lista vazia que irá ser preenchida com as novas numerações\n",
    "alunos_faltososM=[] \n",
    "\n",
    "##Codigo necessário para regerar os números dos faltosos:\n",
    "##Cada caixa de marcação de falta está separada em multiplos de 3\n",
    "\n",
    "for alunox in alunos_faltosos:\n",
    "    alunox=(alunox*3)-2\n",
    "    alunos_faltososM.append(alunox)\n",
    "    \n",
    "    \n",
    "##Um alerta para confirmar os números informados\n",
    "##Outro alerta para iniciar o programa principal\n",
    "\n",
    "pauto.alert(alunos_faltosos)\n",
    "pauto.alert('prepare-se')\n",
    "\n",
    "\n",
    "##Esse trecho se aplica apenas para o primeiro aluno da lista\n",
    "\n",
    "if (1) in alunos_faltosos:\n",
    "        pauto.press('tab')\n",
    "        pauto.press('tab')\n",
    "        pauto.press('tab')\n",
    "        pauto.press('space')\n",
    "        pauto.press('tab')\n",
    "    \n",
    "        \n",
    "else: \n",
    "    for Primeiro_Caso in range (0,4):\n",
    "         pauto.press('tab')\n",
    "        \n",
    "\n",
    "##Esse trecho se aplica para o restante dos alunos\n",
    "for n in range (1,Quantidade_De_Alunos+1):\n",
    "\n",
    "    if (n in alunos_faltososM) and (n>1):\n",
    "\n",
    "        pauto.press('space')\n",
    "        pauto.press('tab')\n",
    "        n=n+1\n",
    "\n",
    "    else:pauto.press('tab')\n"
   ]
  },
  {
   "cell_type": "code",
   "execution_count": null,
   "id": "ce9392d2",
   "metadata": {},
   "outputs": [],
   "source": []
  }
 ],
 "metadata": {
  "kernelspec": {
   "display_name": "Python 3 (ipykernel)",
   "language": "python",
   "name": "python3"
  },
  "language_info": {
   "codemirror_mode": {
    "name": "ipython",
    "version": 3
   },
   "file_extension": ".py",
   "mimetype": "text/x-python",
   "name": "python",
   "nbconvert_exporter": "python",
   "pygments_lexer": "ipython3",
   "version": "3.9.12"
  }
 },
 "nbformat": 4,
 "nbformat_minor": 5
}
