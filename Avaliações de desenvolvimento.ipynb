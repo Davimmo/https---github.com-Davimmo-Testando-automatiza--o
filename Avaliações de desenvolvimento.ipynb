{
 "cells": [
  {
   "cell_type": "code",
   "execution_count": 3,
   "id": "93e29da8",
   "metadata": {},
   "outputs": [],
   "source": [
    "import pyautogui as pauto\n",
    "import time\n",
    "    \n",
    "\n",
    "pauto.alert('prepare-se')\n",
    "for n in range (0,35):\n",
    "    \n",
    "    pauto.press('tab')\n",
    "    pauto.press('down')"
   ]
  },
  {
   "cell_type": "code",
   "execution_count": 1,
   "id": "b3a1c226",
   "metadata": {},
   "outputs": [],
   "source": [
    "import pyautogui as pauto\n",
    "import time\n",
    "\n",
    "\n",
    "pauto.hotkey('fn','f3')\n",
    "time.sleep(1)"
   ]
  },
  {
   "cell_type": "code",
   "execution_count": null,
   "id": "facd2e02",
   "metadata": {},
   "outputs": [],
   "source": []
  }
 ],
 "metadata": {
  "kernelspec": {
   "display_name": "Python 3.9.12 ('base')",
   "language": "python",
   "name": "python3"
  },
  "language_info": {
   "codemirror_mode": {
    "name": "ipython",
    "version": 3
   },
   "file_extension": ".py",
   "mimetype": "text/x-python",
   "name": "python",
   "nbconvert_exporter": "python",
   "pygments_lexer": "ipython3",
   "version": "3.9.12"
  },
  "vscode": {
   "interpreter": {
    "hash": "ad67baab754a750671780864f60c0a54c654133bc8bed5ce81213628eac8d661"
   }
  }
 },
 "nbformat": 4,
 "nbformat_minor": 5
}
