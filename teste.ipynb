{
 "cells": [
  {
   "cell_type": "code",
   "execution_count": 1,
   "metadata": {},
   "outputs": [
    {
     "name": "stdout",
     "output_type": "stream",
     "text": [
      "Pesquisar\n"
     ]
    }
   ],
   "source": [
    "  from selenium import webdriver\n",
    "  from selenium.webdriver.common.by import By\n",
    "\n",
    "  driver = webdriver.Chrome()\n",
    "  driver.get(\"https://www.google.com\")\n",
    "  driver.find_element(By.CSS_SELECTOR, '[name=\"q\"]').send_keys(\"webElement\")\n",
    "\n",
    "    # Obter atributo do elemento atualmente ativo\n",
    "  attr = driver.switch_to.active_element.get_attribute(\"title\")\n",
    "  print(attr)"
   ]
  }
 ],
 "metadata": {
  "kernelspec": {
   "display_name": "Python 3.9.12 ('base')",
   "language": "python",
   "name": "python3"
  },
  "language_info": {
   "codemirror_mode": {
    "name": "ipython",
    "version": 3
   },
   "file_extension": ".py",
   "mimetype": "text/x-python",
   "name": "python",
   "nbconvert_exporter": "python",
   "pygments_lexer": "ipython3",
   "version": "3.9.12"
  },
  "orig_nbformat": 4,
  "vscode": {
   "interpreter": {
    "hash": "ad67baab754a750671780864f60c0a54c654133bc8bed5ce81213628eac8d661"
   }
  }
 },
 "nbformat": 4,
 "nbformat_minor": 2
}
