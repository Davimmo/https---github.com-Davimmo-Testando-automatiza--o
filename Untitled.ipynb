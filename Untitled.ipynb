{
 "cells": [
  {
   "cell_type": "code",
   "execution_count": 10,
   "id": "27893bb4",
   "metadata": {},
   "outputs": [
    {
     "name": "stdout",
     "output_type": "stream",
     "text": [
      "{'num': 3, 'posição': [3, 1, 1], 'Tipo de peça': 'quina', 'amarelo': 'PR', 'verde': 'PL', 'laranja': 'PF'}\n"
     ]
    }
   ],
   "source": [
    "\n",
    "def troca_valores(listaA,listaB,valorinicial):\n",
    "    temp=0\n",
    "    novalista=list(listaA.keys())\n",
    "\n",
    "    valorespassados=list(listaB.values())\n",
    "\n",
    "    for i in novalista[valorinicial:]:\n",
    "        \n",
    "        listaA[i]=(valorespassados[valorinicial])\n",
    "        valorinicial+=1\n",
    "\n",
    "        return listaA\n",
    "\n",
    "\n",
    "dicionario1={'num': 3, 'posição': [3, 1, 1], 'Tipo de peça': 'quina', 'amarelo': 'PU', 'verde': 'PL', 'laranja': 'PF'}\n",
    "dicionario2={'num': 9, 'posição': [3, 3, 1], 'Tipo de peça': 'quina', 'azul': 'PR', 'amarelo': 'PU', 'laranja': 'PF'}\n",
    "\n",
    "print(troca_valores(dicionario1,dicionario2,3))"
   ]
  }
 ],
 "metadata": {
  "kernelspec": {
   "display_name": "Python 3.9.12 ('base')",
   "language": "python",
   "name": "python3"
  },
  "language_info": {
   "codemirror_mode": {
    "name": "ipython",
    "version": 3
   },
   "file_extension": ".py",
   "mimetype": "text/x-python",
   "name": "python",
   "nbconvert_exporter": "python",
   "pygments_lexer": "ipython3",
   "version": "3.9.12"
  },
  "vscode": {
   "interpreter": {
    "hash": "ad67baab754a750671780864f60c0a54c654133bc8bed5ce81213628eac8d661"
   }
  }
 },
 "nbformat": 4,
 "nbformat_minor": 5
}
