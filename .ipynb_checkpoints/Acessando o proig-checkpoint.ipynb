{
 "cells": [
  {
   "cell_type": "code",
   "execution_count": 12,
   "id": "4a7d107f",
   "metadata": {},
   "outputs": [
    {
     "ename": "AttributeError",
     "evalue": "'WebDriver' object has no attribute 'findElement'",
     "output_type": "error",
     "traceback": [
      "\u001b[1;31m---------------------------------------------------------------------------\u001b[0m",
      "\u001b[1;31mAttributeError\u001b[0m                            Traceback (most recent call last)",
      "Input \u001b[1;32mIn [12]\u001b[0m, in \u001b[0;36m<cell line: 23>\u001b[1;34m()\u001b[0m\n\u001b[0;32m     20\u001b[0m \u001b[38;5;66;03m##gerar documento\u001b[39;00m\n\u001b[0;32m     21\u001b[0m time\u001b[38;5;241m.\u001b[39msleep(\u001b[38;5;241m5\u001b[39m)\n\u001b[1;32m---> 23\u001b[0m \u001b[43mnavegador\u001b[49m\u001b[38;5;241;43m.\u001b[39;49m\u001b[43mfindElement\u001b[49m(By\u001b[38;5;241m.\u001b[39mcssSelector(\u001b[38;5;124m\"\u001b[39m\u001b[38;5;124minput[id=\u001b[39m\u001b[38;5;124m'\u001b[39m\u001b[38;5;124mAlunos\u001b[39m\u001b[38;5;124m'\u001b[39m\u001b[38;5;124m]\u001b[39m\u001b[38;5;124m\"\u001b[39m))\n\u001b[0;32m     25\u001b[0m time\u001b[38;5;241m.\u001b[39msleep(\u001b[38;5;241m3\u001b[39m)\n",
      "\u001b[1;31mAttributeError\u001b[0m: 'WebDriver' object has no attribute 'findElement'"
     ]
    }
   ],
   "source": [
    "import time\n",
    "from selenium.webdriver.common.by import By\n",
    "from selenium import webdriver\n",
    "from selenium.webdriver.common.keys import Keys\n",
    "navegador=webdriver.Chrome()\n",
    "\n",
    "## Abre o navegador\n",
    "navegador.get('https://www.educacao.petrolina.pe.gov.br/ator/educadores')\n",
    "##Faz o login\n",
    "navegador.find_element(\"xpath\",'//*[@id=\"login\"]').send_keys(\"Davi.BC\")\n",
    "navegador.find_element(\"xpath\",'//*[@id=\"senha\"]').send_keys('@Vk5644202510')\n",
    "navegador.find_element(\"xpath\",'//*[@id=\"okLogon\"]').click()\n",
    "time.sleep(3)\n",
    "##Abre a área restrita\n",
    "navegador.find_element(\"xpath\",'/html/body/div[1]/div[1]/div/div[1]/button').click()\n",
    "navegador.find_element(\"xpath\",'//*[@id=\"submenuRestrito\"]/ul/li[2]/a/span').click()\n",
    "##Vai para a área alunos\n",
    "time.sleep(5)\n",
    "navegador.find_element(\"xpath\",'//*[@id=\"divListaModulos\"]/a[2]').click()\n",
    "##gerar documento\n",
    "time.sleep(5)\n",
    "\n",
    "\n",
    "\n",
    "time.sleep(3)\n",
    "\n",
    "\n",
    "\n",
    "\n",
    "\n",
    "\n",
    "\n",
    "\n"
   ]
  },
  {
   "cell_type": "code",
   "execution_count": null,
   "id": "675846fe",
   "metadata": {},
   "outputs": [],
   "source": []
  },
  {
   "cell_type": "code",
   "execution_count": null,
   "id": "02a6f342",
   "metadata": {},
   "outputs": [],
   "source": []
  }
 ],
 "metadata": {
  "kernelspec": {
   "display_name": "Python 3 (ipykernel)",
   "language": "python",
   "name": "python3"
  },
  "language_info": {
   "codemirror_mode": {
    "name": "ipython",
    "version": 3
   },
   "file_extension": ".py",
   "mimetype": "text/x-python",
   "name": "python",
   "nbconvert_exporter": "python",
   "pygments_lexer": "ipython3",
   "version": "3.9.12"
  }
 },
 "nbformat": 4,
 "nbformat_minor": 5
}
