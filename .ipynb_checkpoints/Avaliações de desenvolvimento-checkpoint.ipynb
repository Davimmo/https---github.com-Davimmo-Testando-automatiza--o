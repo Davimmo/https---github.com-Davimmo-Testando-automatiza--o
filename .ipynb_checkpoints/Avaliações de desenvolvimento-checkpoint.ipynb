{
 "cells": [
  {
   "cell_type": "code",
   "execution_count": 13,
   "id": "93e29da8",
   "metadata": {},
   "outputs": [],
   "source": [
    "import pyautogui as pauto\n",
    "import time\n",
    "\n",
    "\n",
    "pauto.alert('prepare-se')\n",
    "for n in range (1,40):\n",
    "    \n",
    "    pauto.press('tab')\n",
    "    pauto.press('down')"
   ]
  },
  {
   "cell_type": "code",
   "execution_count": 11,
   "id": "b3a1c226",
   "metadata": {},
   "outputs": [],
   "source": [
    "import pyautogui as pauto\n",
    "import time\n",
    "\n",
    "\n",
    "pauto.hotkey('alt','tab')       "
   ]
  },
  {
   "cell_type": "code",
   "execution_count": null,
   "id": "facd2e02",
   "metadata": {},
   "outputs": [],
   "source": []
  }
 ],
 "metadata": {
  "kernelspec": {
   "display_name": "Python 3 (ipykernel)",
   "language": "python",
   "name": "python3"
  },
  "language_info": {
   "codemirror_mode": {
    "name": "ipython",
    "version": 3
   },
   "file_extension": ".py",
   "mimetype": "text/x-python",
   "name": "python",
   "nbconvert_exporter": "python",
   "pygments_lexer": "ipython3",
   "version": "3.9.12"
  }
 },
 "nbformat": 4,
 "nbformat_minor": 5
}
